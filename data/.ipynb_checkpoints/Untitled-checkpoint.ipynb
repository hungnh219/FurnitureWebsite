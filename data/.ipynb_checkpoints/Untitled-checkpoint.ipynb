{
 "cells": [
  {
   "cell_type": "code",
   "execution_count": 1,
   "id": "de44055b-1364-43c3-abe5-869bc93c1f80",
   "metadata": {},
   "outputs": [],
   "source": [
    "import pandas as pd"
   ]
  },
  {
   "cell_type": "code",
   "execution_count": 2,
   "id": "3a378456-979c-4f18-a568-2a2b2dbaf46d",
   "metadata": {},
   "outputs": [
    {
     "name": "stdout",
     "output_type": "stream",
     "text": [
      "D:\\Onedrive\\OneDrive - Trường ĐH CNTT - University of Information Technology\\HKV\\Internet & Công nghệ web\\Doan\n"
     ]
    }
   ],
   "source": [
    "%cd \"D:\\Onedrive\\OneDrive - Trường ĐH CNTT - University of Information Technology\\HKV\\Internet & Công nghệ web\\Doan\""
   ]
  },
  {
   "cell_type": "code",
   "execution_count": 3,
   "id": "347fa9dc-aec4-4255-8dfd-bbd7646293d2",
   "metadata": {},
   "outputs": [],
   "source": [
    "Table = [\"Tag\", \"Product\"]"
   ]
  },
  {
   "cell_type": "code",
   "execution_count": 10,
   "id": "411e7f14-ab44-4b80-97e3-63d512b17a1f",
   "metadata": {},
   "outputs": [],
   "source": [
    "def Get_print_value(Name):\n",
    "    It = pd.read_csv(f\"{Name}.csv\")\n",
    "    print(f\"INSERT INTO {Name}\")\n",
    "    print(f\"VALUE\")\n",
    "    temp = \"\"\n",
    "    for id, row in It.iterrows():\n",
    "        temp += f\"\\t(\"\n",
    "        for item in row:\n",
    "            temp += f\"'{item}',\"\n",
    "        temp = temp[:-1]\n",
    "        temp += f\"),\\n\"\n",
    "    temp = temp[:-2]\n",
    "    temp += f\";\\n\"\n",
    "    print(temp)"
   ]
  },
  {
   "cell_type": "code",
   "execution_count": 11,
   "id": "85b2ef5a-2439-4173-ab8b-19faab736d42",
   "metadata": {},
   "outputs": [
    {
     "name": "stdout",
     "output_type": "stream",
     "text": [
      "INSERT INTO TAG\n",
      "VALUE\n",
      "\t('T0001','Bedroom'),\n",
      "\t('T0002','Diningroom'),\n",
      "\t('T0003','Livingroom'),\n",
      "\t('T0004','Accent Tables'),\n",
      "\t('T0005','Beds'),\n",
      "\t('T0006','Benches & Ottomans'),\n",
      "\t('T0007','Chairs'),\n",
      "\t('T0008','Nightstands & Dressers'),\n",
      "\t('T0009','Tables'),\n",
      "\t('T0010','Stools'),\n",
      "\t('T0011','Sectionals'),\n",
      "\t('T0012','Sofas');\n",
      "\n",
      "INSERT INTO TAG\n",
      "VALUE\n",
      "\t('T0001','Bedroom'),\n",
      "\t('T0002','Diningroom'),\n",
      "\t('T0003','Livingroom'),\n",
      "\t('T0004','Accent Tables'),\n",
      "\t('T0005','Beds'),\n",
      "\t('T0006','Benches & Ottomans'),\n",
      "\t('T0007','Chairs'),\n",
      "\t('T0008','Nightstands & Dressers'),\n",
      "\t('T0009','Tables'),\n",
      "\t('T0010','Stools'),\n",
      "\t('T0011','Sectionals'),\n",
      "\t('T0012','Sofas');\n",
      "\n"
     ]
    }
   ],
   "source": [
    "for item in Table:\n",
    "    Get_print_value(item)"
   ]
  },
  {
   "cell_type": "code",
   "execution_count": null,
   "id": "7fb58698-b749-43b6-ac24-eef2f35b29a2",
   "metadata": {},
   "outputs": [],
   "source": []
  }
 ],
 "metadata": {
  "kernelspec": {
   "display_name": "Python 3",
   "language": "python",
   "name": "python3"
  },
  "language_info": {
   "codemirror_mode": {
    "name": "ipython",
    "version": 3
   },
   "file_extension": ".py",
   "mimetype": "text/x-python",
   "name": "python",
   "nbconvert_exporter": "python",
   "pygments_lexer": "ipython3",
   "version": "3.11.5"
  }
 },
 "nbformat": 4,
 "nbformat_minor": 5
}
